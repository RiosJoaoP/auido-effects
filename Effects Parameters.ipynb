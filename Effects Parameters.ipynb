{
 "cells": [
  {
   "cell_type": "markdown",
   "id": "75c0739c-3d33-4cfb-b82d-1fd872487fee",
   "metadata": {},
   "source": [
    "## Importações"
   ]
  },
  {
   "cell_type": "code",
   "execution_count": 1,
   "id": "d1e87140-1404-4245-b0a7-d1ca091f8f89",
   "metadata": {},
   "outputs": [],
   "source": [
    "import os\n",
    "import sox\n",
    "import librosa\n",
    "\n",
    "import random\n",
    "\n",
    "import pygad\n",
    "\n",
    "import matplotlib.pyplot as plt\n",
    "import numpy as np\n",
    "\n",
    "import warnings\n",
    "warnings.filterwarnings(\"ignore\", category=UserWarning)"
   ]
  },
  {
   "cell_type": "code",
   "execution_count": 2,
   "id": "88d7883f-7fb5-4476-9bb9-acded3c143c2",
   "metadata": {},
   "outputs": [],
   "source": [
    "AUDIOS_DIRECTORY = \"audios\"\n",
    "OUTPUT_DIRECTORY = \"output/optimization\"\n",
    "INPUT_FILE = f\"{AUDIOS_DIRECTORY}/original.wav\""
   ]
  },
  {
   "cell_type": "markdown",
   "id": "3a72f047-4b36-4ae7-b2a1-6049c0043920",
   "metadata": {},
   "source": [
    "## Implementação dos efeitos"
   ]
  },
  {
   "cell_type": "code",
   "execution_count": 3,
   "id": "69dd0aea-69a7-478b-9a6d-2a2655f54be9",
   "metadata": {},
   "outputs": [],
   "source": [
    "class Effects:\n",
    "    def __init__(self, input_file, output_file):\n",
    "        \"\"\"\n",
    "        Inicializa a classe Effects.\n",
    "        :param input_file: Arquivo de áudio de entrada.\n",
    "        :param output_file: Arquivo de áudio de saída.\n",
    "        \"\"\"\n",
    "        self.input_file = input_file\n",
    "        self.output_file = output_file\n",
    "        self.tfm = sox.Transformer()\n",
    "\n",
    "    def _apply_effects(self):\n",
    "        \"\"\"Aplica os efeitos e gera o arquivo de saída.\"\"\"\n",
    "        if os.path.exists(self.output_file):\n",
    "            os.remove(self.output_file)\n",
    "        self.tfm.build(self.input_file, self.output_file)\n",
    "\n",
    "    def _apply_reverb(self, reverberance=50, room_scale=50, pre_delay=20):\n",
    "        \"\"\"Aplica reverberação.\"\"\"\n",
    "        self.tfm.reverb(reverberance, room_scale=room_scale, pre_delay=pre_delay)\n",
    "\n",
    "    def _apply_pitch(self, semitones=0):\n",
    "        \"\"\"Aplica alteração de pitch.\"\"\"\n",
    "        self.tfm.pitch(semitones)\n",
    "\n",
    "    def _apply_flanger(self, delay=3, depth=1.5, regen=0, width=50, speed=0.4):\n",
    "        \"\"\"Aplica efeito de flanger.\"\"\"\n",
    "        self.tfm.flanger(delay, depth, regen, width, speed)\n",
    "\n",
    "    def _apply_tremolo(self, speed=5, depth=40):\n",
    "        \"\"\"Aplica efeito de tremolo.\"\"\"\n",
    "        self.tfm.tremolo(speed, depth)\n",
    "\n",
    "    def _apply_equalizer(self, frequency=2000, width_q=2, gain_db=6):\n",
    "        \"\"\"Aplica equalização.\"\"\"\n",
    "        self.tfm.equalizer(frequency, width_q, gain_db)\n",
    "\n",
    "    def _apply_chorus(self, gain_in=0.5, gain_out=0.9, n_voices=3, delays=[20], decays=[0.5], speeds=[0.5], depths=[2]):\n",
    "        \"\"\"Aplica efeito de chorus.\"\"\"\n",
    "        self.tfm.chorus(gain_in, gain_out, n_voices, delays, decays, speeds, depths)\n",
    "\n",
    "    def apply_effects(self, effects_params):\n",
    "        \"\"\"\n",
    "        Aplica uma combinação de efeitos conforme os parâmetros passados.\n",
    "        :param effects_params: Dicionário contendo os efeitos e seus parâmetros.\n",
    "        \"\"\"\n",
    "        for effect, params in effects_params.items():\n",
    "            if hasattr(self, f\"_apply_{effect}\"):\n",
    "                getattr(self, f\"_apply_{effect}\")(**params)\n",
    "        self._apply_effects()\n",
    "\n",
    "    # Efeitos predefinidos\n",
    "    def apply_revhall(self, reverberance=50, room_scale=50, pre_delay=20):\n",
    "        \"\"\"Efeito: Reverberação de auditório.\"\"\"\n",
    "        self.apply_effects({\"reverb\": {\"reverberance\": reverberance, \"room_scale\": room_scale, \"pre_delay\": pre_delay}})\n",
    "\n",
    "    def apply_fallingamajor(self, semitones=0, reverberance=50, room_scale=50, pre_delay=20):\n",
    "        \"\"\"Efeito: Som eletrônico (bmajor) com reverberação.\"\"\"\n",
    "        self.apply_effects({\n",
    "            \"pitch\": {\"semitones\": semitones},\n",
    "            \"reverb\": {\"reverberance\": reverberance, \"room_scale\": room_scale, \"pre_delay\": pre_delay}\n",
    "        })\n",
    "\n",
    "    def apply_bmajor(self, semitones=0, reverberance=50, room_scale=50, pre_delay=20):\n",
    "        \"\"\"Efeito: Som eletrônico (bmajor) com reverberação.\"\"\"\n",
    "        self.apply_effects({\n",
    "            \"pitch\": {\"semitones\": semitones},\n",
    "            \"reverb\": {\"reverberance\": reverberance, \"room_scale\": room_scale, \"pre_delay\": pre_delay}\n",
    "        })\n",
    "\n",
    "    def apply_dmajor(self, semitones=0, reverberance=50, room_scale=50, pre_delay=20):\n",
    "        \"\"\"Efeito: Som eletrônico (dmajor) com reverberação.\"\"\"\n",
    "        self.apply_effects({\n",
    "            \"pitch\": {\"semitones\": semitones},\n",
    "            \"reverb\": {\"reverberance\": reverberance, \"room_scale\": room_scale, \"pre_delay\": pre_delay}\n",
    "        })\n",
    "\n",
    "    def apply_fmajor(self, semitones=0, reverberance=50, room_scale=50, pre_delay=20):\n",
    "        \"\"\"Efeito: Som eletrônico (fmajor) com reverberação.\"\"\"\n",
    "        self.apply_effects({\n",
    "            \"pitch\": {\"semitones\": semitones},\n",
    "            \"reverb\": {\"reverberance\": reverberance, \"room_scale\": room_scale, \"pre_delay\": pre_delay}\n",
    "        })\n",
    "\n",
    "    def apply_semitonescale(self, semitones=0, reverberance=50, room_scale=50, pre_delay=20):\n",
    "        \"\"\"Efeito: Escala de semitons eletrônica com reverberação.\"\"\"\n",
    "        self.apply_effects({\n",
    "            \"pitch\": {\"semitones\": semitones},\n",
    "            \"reverb\": {\"reverberance\": reverberance, \"room_scale\": room_scale, \"pre_delay\": pre_delay}\n",
    "        })\n",
    "\n",
    "    def apply_childvoice(self, pitch_shift=6, reverberance=30, room_scale=30, pre_delay=10):\n",
    "        \"\"\"Efeito: Voz de criança.\"\"\"\n",
    "        self.apply_effects({\n",
    "            \"pitch\": {\"semitones\": pitch_shift},\n",
    "            \"reverb\": {\"reverberance\": reverberance, \"room_scale\": room_scale, \"pre_delay\": pre_delay},\n",
    "            \"equalizer\": {\"frequency\": 2000, \"width_q\": 2, \"gain_db\": 6}\n",
    "        })\n",
    "\n",
    "    def apply_magicechomale(self, reverberance=90, room_scale=80, pre_delay=50, pitch_shift=-4, chorus=False):\n",
    "        \"\"\"Efeito: Eco mágico masculino.\"\"\"\n",
    "        effects = {\n",
    "            \"reverb\": {\"reverberance\": reverberance, \"room_scale\": room_scale, \"pre_delay\": pre_delay},\n",
    "            \"pitch\": {\"semitones\": pitch_shift}\n",
    "        }\n",
    "        if chorus:\n",
    "            n_voices = 3  # Number of voices in the chorus effect\n",
    "            effects[\"chorus\"] = {\n",
    "                \"gain_in\": 0.5,\n",
    "                \"gain_out\": 0.9,\n",
    "                \"n_voices\": n_voices,\n",
    "                \"delays\": [20] * n_voices,  # Ensure delays has the same length as n_voices\n",
    "                \"decays\": [0.5] * n_voices,  # Ensure decays has the same length as n_voices\n",
    "                \"speeds\": [0.5] * n_voices,  # Ensure speeds has the same length as n_voices\n",
    "                \"depths\": [2] * n_voices,    # Ensure depths has the same length as n_voices\n",
    "            }\n",
    "        \n",
    "        self.apply_effects(effects)"
   ]
  },
  {
   "cell_type": "markdown",
   "id": "d277e09d-e4e6-4260-bd2a-540da58ff813",
   "metadata": {},
   "source": [
    "## Otimização"
   ]
  },
  {
   "cell_type": "markdown",
   "id": "f81b2f05-9dd2-483c-a426-bcd0ce2763e0",
   "metadata": {},
   "source": [
    "### Effect 2 - Rev Hall 2"
   ]
  },
  {
   "cell_type": "code",
   "execution_count": 4,
   "id": "46591b6b-a16d-40ed-9e2d-a79fba6273ca",
   "metadata": {},
   "outputs": [],
   "source": [
    "def fitness_function(ga_instance, solution, solution_idx, input_file, reference_file, output_directory):\n",
    "    \n",
    "    AUDIOS_DIRECTORY = \"audios\"\n",
    "    OUTPUT_DIRECTORY = \"output\"\n",
    "\n",
    "    # Arquivos de entrada e saída\n",
    "    input_file = f\"{AUDIOS_DIRECTORY}/original.wav\"\n",
    "    output_file = f\"{OUTPUT_DIRECTORY}/optimization/temp/temp_{solution_idx}.wav\"\n",
    "    \n",
    "    # Descompacta os parâmetros do reverb\n",
    "    reverberance, room_scale, pre_delay = solution\n",
    "\n",
    "    # Aplica o efeito de reverb com os parâmetros do AG\n",
    "    effects = Effects(input_file, output_file)\n",
    "    effects.apply_revhall(reverberance=reverberance, room_scale=room_scale, pre_delay=pre_delay)\n",
    "    \n",
    "    # Carrega os áudios processado e de referência\n",
    "    processed, sr = librosa.load(output_file, sr=None)\n",
    "    reference, sr = librosa.load(reference_file, sr=None)\n",
    "    \n",
    "    # Certifica-se de que os sinais tenham o mesmo tamanho\n",
    "    min_len = min(len(processed), len(reference))\n",
    "    processed = processed[:min_len]\n",
    "    reference = reference[:min_len]\n",
    "    \n",
    "    # Converte para espectrogramas STFT\n",
    "    D_processed = librosa.stft(processed)\n",
    "    D_reference = librosa.stft(reference)\n",
    "    \n",
    "    # Obtém as magnitudes (descarta fase)\n",
    "    mag_processed = np.abs(D_processed)\n",
    "    mag_reference = np.abs(D_reference)\n",
    "    \n",
    "    # Normaliza para evitar influência da amplitude\n",
    "    mag_processed /= np.max(mag_processed)\n",
    "    mag_reference /= np.max(mag_reference)\n",
    "\n",
    "    # Calcula a diferença espectral como fitness (quanto menor, melhor)\n",
    "    fitness = -np.sum((mag_reference - mag_processed) ** 2)  # PyGAD maximiza, então invertemos o sinal\n",
    "    \n",
    "    return fitness"
   ]
  },
  {
   "cell_type": "code",
   "execution_count": 5,
   "id": "8fd02cce-44f1-4687-a8eb-9c9e55512f1b",
   "metadata": {},
   "outputs": [],
   "source": [
    "REFERENCE_FILE = f\"{AUDIOS_DIRECTORY}/revhall2.wav\"\n",
    "\n",
    "GA_CONFIG = {\n",
    "    \"num_generations\": 50,\n",
    "    \"num_parents_mating\": 5,\n",
    "    \"sol_per_pop\": 20,\n",
    "    \"num_genes\": 3,\n",
    "    \"gene_space\": [\n",
    "        {\"low\": 0, \"high\": 100},  # reverberance\n",
    "        {\"low\": 0, \"high\": 100},  # room_scale\n",
    "        {\"low\": 0, \"high\": 100},  # pre_delay\n",
    "    ],\n",
    "    \"mutation_type\": \"random\",\n",
    "    \"mutation_percent_genes\": 34,\n",
    "}"
   ]
  },
  {
   "cell_type": "code",
   "execution_count": 6,
   "id": "ecc6907e-7bf2-4578-a6b0-78f2d5c0ba94",
   "metadata": {},
   "outputs": [],
   "source": [
    "ga_instance = pygad.GA(\n",
    "    fitness_func=lambda ga_instance, solution, solution_idx: fitness_function(\n",
    "        ga_instance, solution, solution_idx, INPUT_FILE, REFERENCE_FILE, OUTPUT_DIRECTORY\n",
    "    ),\n",
    "    **GA_CONFIG\n",
    ")"
   ]
  },
  {
   "cell_type": "code",
   "execution_count": 7,
   "id": "f1322adc-4d4b-4bd8-a688-ddea4d99a787",
   "metadata": {},
   "outputs": [
    {
     "name": "stdout",
     "output_type": "stream",
     "text": [
      "Melhor solução: [76.11337168 16.91206078  1.31581308], Fitness: 258.7720031738281\n"
     ]
    }
   ],
   "source": [
    "ga_instance.run()\n",
    "\n",
    "solution, solution_fitness, _ = ga_instance.best_solution()\n",
    "print(f\"Melhor solução: {solution}, Fitness: {-solution_fitness}\")"
   ]
  },
  {
   "cell_type": "code",
   "execution_count": 8,
   "id": "0590a771-0f16-4f49-ac92-1c2a1e8dcd46",
   "metadata": {},
   "outputs": [
    {
     "data": {
      "image/png": "[encoded data removed]",
      "text/plain": [
       "<Figure size 640x480 with 1 Axes>"
      ]
     },
     "metadata": {},
     "output_type": "display_data"
    },
    {
     "data": {
      "text/plain": [
       "Text(0.5, 1.0, 'Fitness x Gerações - Efeito 2')"
      ]
     },
     "execution_count": 8,
     "metadata": {},
     "output_type": "execute_result"
    }
   ],
   "source": [
    "fig = ga_instance.plot_fitness()\n",
    "ax = fig.axes[0]\n",
    "ax.set_title(\"Fitness x Gerações - Efeito 2\", fontsize=12, fontweight='bold')"
   ]
  },
  {
   "cell_type": "code",
   "execution_count": 9,
   "id": "dceaada1-531a-494c-b248-58c1ffc3c1ab",
   "metadata": {},
   "outputs": [],
   "source": [
    "fig.savefig(f'{OUTPUT_DIRECTORY}/graphics/fitness-revhall2.png')"
   ]
  },
  {
   "cell_type": "code",
   "execution_count": 10,
   "id": "12c4a05a-ace0-46db-bc7c-d1a019a32214",
   "metadata": {},
   "outputs": [],
   "source": [
    "input_file = f\"{AUDIOS_DIRECTORY}/original.wav\"\n",
    "output_file = f\"{OUTPUT_DIRECTORY}/results/revhall2.wav\"\n",
    "\n",
    "reverberance, room_scale, pre_delay = solution\n",
    "\n",
    "effects = Effects(input_file, output_file)\n",
    "effects.apply_revhall(reverberance=reverberance, room_scale=room_scale, pre_delay=pre_delay)"
   ]
  },
  {
   "cell_type": "markdown",
   "id": "fe01898f-5cff-4622-83f3-0dfa64502ff8",
   "metadata": {},
   "source": [
    "### Effect 5 - Falling A Major"
   ]
  },
  {
   "cell_type": "code",
   "execution_count": 12,
   "id": "a9965452-8259-4755-975e-354b5a66060e",
   "metadata": {},
   "outputs": [],
   "source": [
    "def fitness_function(ga_instance, solution, solution_idx, input_file, reference_file, output_directory):\n",
    "    # Arquivo de saída temporário\n",
    "    output_file = f\"{output_directory}/temp/temp_{solution_idx}.wav\"\n",
    "    \n",
    "    # Descompacta os parâmetros do fallingamajor\n",
    "    semitones, reverberance, room_scale, pre_delay = solution\n",
    "\n",
    "    # Aplica o efeito fallingamajor com os parâmetros do AG\n",
    "    effects = Effects(input_file, output_file)\n",
    "    effects.apply_fallingamajor(\n",
    "        semitones=semitones,\n",
    "        reverberance=reverberance,\n",
    "        room_scale=room_scale,\n",
    "        pre_delay=pre_delay\n",
    "    )\n",
    "    \n",
    "    # Carrega os áudios processado e de referência\n",
    "    processed, sr = librosa.load(output_file, sr=None)\n",
    "    reference, sr = librosa.load(reference_file, sr=None)\n",
    "    \n",
    "    # Certifica-se de que os sinais tenham o mesmo tamanho\n",
    "    min_len = min(len(processed), len(reference))\n",
    "    processed = processed[:min_len]\n",
    "    reference = reference[:min_len]\n",
    "    \n",
    "    # Converte para espectrogramas STFT\n",
    "    D_processed = librosa.stft(processed)\n",
    "    D_reference = librosa.stft(reference)\n",
    "    \n",
    "    # Obtém as magnitudes (descarta fase)\n",
    "    mag_processed = np.abs(D_processed)\n",
    "    mag_reference = np.abs(D_reference)\n",
    "    \n",
    "    # Normaliza para evitar influência da amplitude\n",
    "    mag_processed /= np.max(mag_processed)\n",
    "    mag_reference /= np.max(mag_reference)\n",
    "\n",
    "    # Calcula a diferença espectral como fitness (quanto menor, melhor)\n",
    "    fitness = -np.sum((mag_reference - mag_processed) ** 2)  # PyGAD maximiza, então invertemos o sinal\n",
    "    \n",
    "    return fitness"
   ]
  },
  {
   "cell_type": "code",
   "execution_count": 13,
   "id": "83d82fb1-4de8-4483-adb4-321fb74b9338",
   "metadata": {},
   "outputs": [],
   "source": [
    "REFERENCE_FILE = f\"{AUDIOS_DIRECTORY}/revstagea.wav\"\n",
    "\n",
    "GA_CONFIG = {\n",
    "    \"num_generations\": 50,          # Número de gerações\n",
    "    \"num_parents_mating\": 5,        # Número de soluções que serão selecionadas como pais\n",
    "    \"sol_per_pop\": 20,              # Número de soluções (indivíduos) na população\n",
    "    \"num_genes\": 4,                 # Número de genes (parâmetros a serem otimizados)\n",
    "    \"gene_space\": [\n",
    "        {\"low\": -12, \"high\": 12},   # semitones (pode variar de -12 a +12)\n",
    "        {\"low\": 0, \"high\": 100},    # reverberance (de 0 a 100)\n",
    "        {\"low\": 0, \"high\": 100},    # room_scale (de 0 a 100)\n",
    "        {\"low\": 0, \"high\": 100},    # pre_delay (de 0 a 100)\n",
    "    ],\n",
    "    \"mutation_type\": \"random\",      # Tipo de mutação (aleatória)\n",
    "    \"mutation_percent_genes\": 34,   # Porcentagem de genes que sofrerão mutação\n",
    "    \"parent_selection_type\": \"sss\", # Método de seleção de pais (steady-state selection)\n",
    "    \"crossover_type\": \"single_point\", # Tipo de crossover (ponto único)\n",
    "    \"keep_parents\": 1,              # Número de pais que serão mantidos na próxima geração\n",
    "}"
   ]
  },
  {
   "cell_type": "code",
   "execution_count": 14,
   "id": "0df7bddd-4be4-49bb-9b09-4da96c96f133",
   "metadata": {},
   "outputs": [],
   "source": [
    "ga_instance = pygad.GA(\n",
    "    fitness_func=lambda ga_instance, solution, solution_idx: fitness_function(\n",
    "        ga_instance, solution, solution_idx, INPUT_FILE, REFERENCE_FILE, OUTPUT_DIRECTORY\n",
    "    ),\n",
    "    **GA_CONFIG\n",
    ")"
   ]
  },
  {
   "cell_type": "code",
   "execution_count": 15,
   "id": "ebd111e3-8a16-46d0-860e-2905a214d025",
   "metadata": {},
   "outputs": [
    {
     "name": "stdout",
     "output_type": "stream",
     "text": [
      "Melhor solução: [ 0.88873522 40.61038141  2.35117528  3.6044605 ], Fitness: 255.0537872314453\n"
     ]
    }
   ],
   "source": [
    "ga_instance.run()\n",
    "\n",
    "solution, solution_fitness, _ = ga_instance.best_solution()\n",
    "print(f\"Melhor solução: {solution}, Fitness: {-solution_fitness}\")"
   ]
  },
  {
   "cell_type": "code",
   "execution_count": 16,
   "id": "25ce961d-acb3-4693-b4a1-32b66c652e80",
   "metadata": {},
   "outputs": [
    {
     "data": {
      "image/png": "[encoded data removed]",
      "text/plain": [
       "<Figure size 640x480 with 1 Axes>"
      ]
     },
     "metadata": {},
     "output_type": "display_data"
    },
    {
     "data": {
      "text/plain": [
       "Text(0.5, 1.0, 'Fitness x Gerações - Efeito 5')"
      ]
     },
     "execution_count": 16,
     "metadata": {},
     "output_type": "execute_result"
    }
   ],
   "source": [
    "fig = ga_instance.plot_fitness()\n",
    "ax = fig.axes[0]\n",
    "ax.set_title(\"Fitness x Gerações - Efeito 5\", fontsize=12, fontweight='bold')"
   ]
  },
  {
   "cell_type": "code",
   "execution_count": 17,
   "id": "bb84c9f5-05cb-46b0-8037-1b1cda992c15",
   "metadata": {},
   "outputs": [],
   "source": [
    "fig.savefig(f'{OUTPUT_DIRECTORY}/graphics/fitness-fallingamajor.png')"
   ]
  },
  {
   "cell_type": "code",
   "execution_count": 18,
   "id": "385fa869-f35c-40c1-a29c-8658cfc6a073",
   "metadata": {},
   "outputs": [],
   "source": [
    "input_file = f\"{AUDIOS_DIRECTORY}/original.wav\"\n",
    "output_file = f\"{OUTPUT_DIRECTORY}/results/fallingamajor.wav\"\n",
    "\n",
    "semitones, reverberance, room_scale, pre_delay = solution\n",
    "\n",
    "effects = Effects(input_file, output_file)\n",
    "effects.apply_fallingamajor(\n",
    "    semitones=semitones,\n",
    "    reverberance=reverberance,\n",
    "    room_scale=room_scale,\n",
    "    pre_delay=pre_delay\n",
    ")"
   ]
  },
  {
   "cell_type": "markdown",
   "id": "854d44b6-0729-4b8d-9b61-0b50bef5393b",
   "metadata": {},
   "source": [
    "### Effect 8 - B Major"
   ]
  },
  {
   "cell_type": "code",
   "execution_count": 18,
   "id": "48e7ad0f-b477-456c-962a-5c36d38789ee",
   "metadata": {},
   "outputs": [],
   "source": [
    "def fitness_function(ga_instance, solution, solution_idx, input_file, reference_file, output_directory):\n",
    "    # Arquivo de saída temporário\n",
    "    output_file = f\"{output_directory}/temp/temp_{solution_idx}.wav\"\n",
    "    \n",
    "    # Descompacta os parâmetros do bmajor\n",
    "    semitones, reverberance, room_scale, pre_delay = solution\n",
    "    \n",
    "    # Aplica o efeito bmajor com os parâmetros do AG\n",
    "    effects = Effects(input_file, output_file)\n",
    "    effects.apply_bmajor(\n",
    "        semitones=semitones,\n",
    "        reverberance=reverberance,\n",
    "        room_scale=room_scale,\n",
    "        pre_delay=pre_delay\n",
    "    )\n",
    "    \n",
    "    # Carrega os áudios processado e de referência\n",
    "    processed, sr = librosa.load(output_file, sr=None)\n",
    "    reference, sr = librosa.load(reference_file, sr=None)\n",
    "    \n",
    "    # Certifica-se de que os sinais tenham o mesmo tamanho\n",
    "    min_len = min(len(processed), len(reference))\n",
    "    processed = processed[:min_len]\n",
    "    reference = reference[:min_len]\n",
    "    \n",
    "    # Converte para espectrogramas STFT\n",
    "    D_processed = librosa.stft(processed)\n",
    "    D_reference = librosa.stft(reference)\n",
    "    \n",
    "    # Obtém as magnitudes (descarta fase)\n",
    "    mag_processed = np.abs(D_processed)\n",
    "    mag_reference = np.abs(D_reference)\n",
    "    \n",
    "    # Normaliza para evitar influência da amplitude\n",
    "    mag_processed /= np.max(mag_processed)\n",
    "    mag_reference /= np.max(mag_reference)\n",
    "\n",
    "    # Calcula a diferença espectral como fitness (quanto menor, melhor)\n",
    "    fitness = -np.sum((mag_reference - mag_processed) ** 2)  # PyGAD maximiza, então invertemos o sinal\n",
    "    \n",
    "    return fitness"
   ]
  },
  {
   "cell_type": "code",
   "execution_count": 19,
   "id": "ea46e808-1636-40e1-81ae-7259d36a51e4",
   "metadata": {},
   "outputs": [],
   "source": [
    "REFERENCE_FILE = f\"{AUDIOS_DIRECTORY}/revstagebb.wav\"\n",
    "\n",
    "GA_CONFIG = {\n",
    "    \"num_generations\": 50,          # Número de gerações\n",
    "    \"num_parents_mating\": 5,        # Número de soluções que serão selecionadas como pais\n",
    "    \"sol_per_pop\": 20,              # Número de soluções (indivíduos) na população\n",
    "    \"num_genes\": 4,                 # Número de genes (apenas semitones)\n",
    "    \"gene_space\": [\n",
    "        {\"low\": -12, \"high\": 12},   # semitones (pode variar de -12 a +12)\n",
    "        {\"low\": 0, \"high\": 100},    # reverberance (de 0 a 100)\n",
    "        {\"low\": 0, \"high\": 100},    # room_scale (de 0 a 100)\n",
    "        {\"low\": 0, \"high\": 100},    # pre_delay (de 0 a 100)\n",
    "    ],\n",
    "    \"mutation_type\": \"random\",      # Tipo de mutação (aleatória)\n",
    "    \"mutation_percent_genes\": 34,   # Porcentagem de genes que sofrerão mutação\n",
    "    \"parent_selection_type\": \"sss\", # Método de seleção de pais (steady-state selection)\n",
    "    \"crossover_type\": \"single_point\", # Tipo de crossover (ponto único)\n",
    "    \"keep_parents\": 1,              # Número de pais que serão mantidos na próxima geração\n",
    "}"
   ]
  },
  {
   "cell_type": "code",
   "execution_count": 20,
   "id": "8603ed98-20af-466b-9108-1d623d948714",
   "metadata": {},
   "outputs": [],
   "source": [
    "ga_instance = pygad.GA(\n",
    "    fitness_func=lambda ga_instance, solution, solution_idx: fitness_function(\n",
    "        ga_instance, solution, solution_idx, INPUT_FILE, REFERENCE_FILE, OUTPUT_DIRECTORY\n",
    "    ),\n",
    "    **GA_CONFIG\n",
    ")"
   ]
  },
  {
   "cell_type": "code",
   "execution_count": 21,
   "id": "cb271d53-915e-4cc7-b049-0ce2f95cbf0b",
   "metadata": {},
   "outputs": [
    {
     "name": "stdout",
     "output_type": "stream",
     "text": [
      "Melhor solução: [-0.9684845  46.47693393 30.10663426  3.71118787], Fitness: 309.7524719238281\n"
     ]
    }
   ],
   "source": [
    "ga_instance.run()\n",
    "\n",
    "solution, solution_fitness, _ = ga_instance.best_solution()\n",
    "print(f\"Melhor solução: {solution}, Fitness: {-solution_fitness}\")"
   ]
  },
  {
   "cell_type": "code",
   "execution_count": 22,
   "id": "1c43d6f3-8b97-4210-b1f1-d31419498008",
   "metadata": {},
   "outputs": [
    {
     "data": {
      "image/png": "[encoded data removed]",
      "text/plain": [
       "<Figure size 640x480 with 1 Axes>"
      ]
     },
     "metadata": {},
     "output_type": "display_data"
    },
    {
     "data": {
      "text/plain": [
       "Text(0.5, 1.0, 'Fitness x Gerações - Efeito 8')"
      ]
     },
     "execution_count": 22,
     "metadata": {},
     "output_type": "execute_result"
    }
   ],
   "source": [
    "fig = ga_instance.plot_fitness()\n",
    "ax = fig.axes[0]\n",
    "ax.set_title(\"Fitness x Gerações - Efeito 8\", fontsize=12, fontweight='bold')"
   ]
  },
  {
   "cell_type": "code",
   "execution_count": 23,
   "id": "2b8d5e71-52f2-4315-96f1-e1bbd29997ce",
   "metadata": {},
   "outputs": [],
   "source": [
    "fig.savefig(f'{OUTPUT_DIRECTORY}/graphics/fitness-bmajor.png')"
   ]
  },
  {
   "cell_type": "code",
   "execution_count": 24,
   "id": "497e55e5-2d40-4447-a7a3-efeaf5a097f8",
   "metadata": {},
   "outputs": [],
   "source": [
    "input_file = f\"{AUDIOS_DIRECTORY}/original.wav\"\n",
    "output_file = f\"{OUTPUT_DIRECTORY}/results/bmajor.wav\"\n",
    "\n",
    "semitones, reverberance, room_scale, pre_delay = solution\n",
    "\n",
    "effects = Effects(input_file, output_file)\n",
    "effects.apply_bmajor(\n",
    "    semitones=semitones,\n",
    "    reverberance=reverberance,\n",
    "    room_scale=room_scale,\n",
    "    pre_delay=pre_delay\n",
    ")"
   ]
  },
  {
   "cell_type": "markdown",
   "id": "33ce149a-b32c-4c4e-a5da-eae5e377468d",
   "metadata": {},
   "source": [
    "### Effect 11 - D Major"
   ]
  },
  {
   "cell_type": "code",
   "execution_count": 25,
   "id": "b40199c7-c975-420c-817b-f03492b1cbc9",
   "metadata": {},
   "outputs": [],
   "source": [
    "def fitness_function(ga_instance, solution, solution_idx, input_file, reference_file, output_directory):\n",
    "    \n",
    "    # Arquivo de saída temporário\n",
    "    output_file = f\"{output_directory}/temp/temp_{solution_idx}.wav\"\n",
    "    \n",
    "    # Descompacta os parâmetros do dmajor\n",
    "    semitones, reverberance, room_scale, pre_delay = solution\n",
    "    \n",
    "    # Aplica o efeito bmajor com os parâmetros do AG\n",
    "    effects = Effects(input_file, output_file)\n",
    "    effects.apply_dmajor(\n",
    "        semitones=semitones,\n",
    "        reverberance=reverberance,\n",
    "        room_scale=room_scale,\n",
    "        pre_delay=pre_delay\n",
    "    )\n",
    "    \n",
    "    # Carrega os áudios processado e de referência\n",
    "    processed, sr = librosa.load(output_file, sr=None)\n",
    "    reference, sr = librosa.load(reference_file, sr=None)\n",
    "    \n",
    "    # Certifica-se de que os sinais tenham o mesmo tamanho\n",
    "    min_len = min(len(processed), len(reference))\n",
    "    processed = processed[:min_len]\n",
    "    reference = reference[:min_len]\n",
    "    \n",
    "    # Converte para espectrogramas STFT\n",
    "    D_processed = librosa.stft(processed)\n",
    "    D_reference = librosa.stft(reference)\n",
    "    \n",
    "    # Obtém as magnitudes (descarta fase)\n",
    "    mag_processed = np.abs(D_processed)\n",
    "    mag_reference = np.abs(D_reference)\n",
    "    \n",
    "    # Normaliza para evitar influência da amplitude\n",
    "    mag_processed /= np.max(mag_processed)\n",
    "    mag_reference /= np.max(mag_reference)\n",
    "\n",
    "    # Calcula a diferença espectral como fitness (quanto menor, melhor)\n",
    "    fitness = -np.sum((mag_reference - mag_processed) ** 2)  # PyGAD maximiza, então invertemos o sinal\n",
    "    \n",
    "    return fitness"
   ]
  },
  {
   "cell_type": "code",
   "execution_count": 26,
   "id": "9daad9fd-dfd1-485b-93f6-460d94bba8b5",
   "metadata": {},
   "outputs": [],
   "source": [
    "REFERENCE_FILE = f\"{AUDIOS_DIRECTORY}/revstagedb.wav\"\n",
    "\n",
    "GA_CONFIG = {\n",
    "    \"num_generations\": 50,          # Número de gerações\n",
    "    \"num_parents_mating\": 5,        # Número de soluções que serão selecionadas como pais\n",
    "    \"sol_per_pop\": 20,              # Número de soluções (indivíduos) na população\n",
    "    \"num_genes\": 4,                 # Número de genes (apenas semitones)\n",
    "    \"gene_space\": [\n",
    "        {\"low\": -12, \"high\": 12},   # semitones (pode variar de -12 a +12)\n",
    "        {\"low\": 0, \"high\": 100},    # reverberance (de 0 a 100)\n",
    "        {\"low\": 0, \"high\": 100},    # room_scale (de 0 a 100)\n",
    "        {\"low\": 0, \"high\": 100},    # pre_delay (de 0 a 100)\n",
    "    ],\n",
    "    \"mutation_type\": \"random\",      # Tipo de mutação (aleatória)\n",
    "    \"mutation_percent_genes\": 34,   # Porcentagem de genes que sofrerão mutação\n",
    "    \"parent_selection_type\": \"sss\", # Método de seleção de pais (steady-state selection)\n",
    "    \"crossover_type\": \"single_point\", # Tipo de crossover (ponto único)\n",
    "    \"keep_parents\": 1,              # Número de pais que serão mantidos na próxima geração\n",
    "}"
   ]
  },
  {
   "cell_type": "code",
   "execution_count": 27,
   "id": "37324635-18eb-41fa-8c0d-576a970e80f6",
   "metadata": {},
   "outputs": [],
   "source": [
    "ga_instance = pygad.GA(\n",
    "    fitness_func=lambda ga_instance, solution, solution_idx: fitness_function(\n",
    "        ga_instance, solution, solution_idx, INPUT_FILE, REFERENCE_FILE, OUTPUT_DIRECTORY\n",
    "    ),\n",
    "    **GA_CONFIG\n",
    ")"
   ]
  },
  {
   "cell_type": "code",
   "execution_count": 28,
   "id": "d982e9d3-9620-408f-b713-aaf0f1a5ac1a",
   "metadata": {},
   "outputs": [
    {
     "name": "stdout",
     "output_type": "stream",
     "text": [
      "Melhor solução: [ 1.48975605 38.35602799 83.4222327  83.3018649 ], Fitness: 334.2950744628906\n"
     ]
    }
   ],
   "source": [
    "ga_instance.run()\n",
    "\n",
    "solution, solution_fitness, _ = ga_instance.best_solution()\n",
    "print(f\"Melhor solução: {solution}, Fitness: {-solution_fitness}\")"
   ]
  },
  {
   "cell_type": "code",
   "execution_count": 29,
   "id": "5bddea0a-6045-44c4-b600-1b91f4646bb4",
   "metadata": {},
   "outputs": [
    {
     "data": {
      "image/png": "[encoded data removed]",
      "text/plain": [
       "<Figure size 640x480 with 1 Axes>"
      ]
     },
     "metadata": {},
     "output_type": "display_data"
    },
    {
     "data": {
      "text/plain": [
       "Text(0.5, 1.0, 'Fitness x Gerações - Efeito 11')"
      ]
     },
     "execution_count": 29,
     "metadata": {},
     "output_type": "execute_result"
    }
   ],
   "source": [
    "fig = ga_instance.plot_fitness()\n",
    "ax = fig.axes[0]\n",
    "ax.set_title(\"Fitness x Gerações - Efeito 11\", fontsize=12, fontweight='bold')"
   ]
  },
  {
   "cell_type": "code",
   "execution_count": 30,
   "id": "019099fb-74c4-4497-b253-258d44a1224e",
   "metadata": {},
   "outputs": [],
   "source": [
    "fig.savefig(f'{OUTPUT_DIRECTORY}/graphics/fitness-dmajor.png')"
   ]
  },
  {
   "cell_type": "code",
   "execution_count": 31,
   "id": "f569f8c7-946d-4895-a2f3-26f96c6ec3a5",
   "metadata": {},
   "outputs": [],
   "source": [
    "input_file = f\"{AUDIOS_DIRECTORY}/original.wav\"\n",
    "output_file = f\"{OUTPUT_DIRECTORY}/results/dmajor.wav\"\n",
    "\n",
    "semitones, reverberance, room_scale, pre_delay = solution\n",
    "\n",
    "effects = Effects(input_file, output_file)\n",
    "effects.apply_dmajor(\n",
    "    semitones=semitones,\n",
    "    reverberance=reverberance,\n",
    "    room_scale=room_scale,\n",
    "    pre_delay=pre_delay\n",
    ")"
   ]
  },
  {
   "cell_type": "markdown",
   "id": "fe254ffc-0844-4046-898f-50f4f28d84f0",
   "metadata": {},
   "source": [
    "### Effect 14 - F Major"
   ]
  },
  {
   "cell_type": "code",
   "execution_count": 32,
   "id": "8cfd5834-db17-4ec8-902d-721a54ac2463",
   "metadata": {},
   "outputs": [],
   "source": [
    "def fitness_function(ga_instance, solution, solution_idx, input_file, reference_file, output_directory):\n",
    "    \n",
    "    # Descompacta os parâmetros do fmajor\n",
    "    semitones, reverberance, room_scale, pre_delay = solution\n",
    "    \n",
    "    # Aplica o efeito bmajor com os parâmetros do AG\n",
    "    effects = Effects(input_file, output_file)\n",
    "    effects.apply_fmajor(\n",
    "        semitones=semitones,\n",
    "        reverberance=reverberance,\n",
    "        room_scale=room_scale,\n",
    "        pre_delay=pre_delay\n",
    "    )\n",
    "    \n",
    "    # Carrega os áudios processado e de referência\n",
    "    processed, sr = librosa.load(output_file, sr=None)\n",
    "    reference, sr = librosa.load(reference_file, sr=None)\n",
    "    \n",
    "    # Certifica-se de que os sinais tenham o mesmo tamanho\n",
    "    min_len = min(len(processed), len(reference))\n",
    "    processed = processed[:min_len]\n",
    "    reference = reference[:min_len]\n",
    "    \n",
    "    # Converte para espectrogramas STFT\n",
    "    D_processed = librosa.stft(processed)\n",
    "    D_reference = librosa.stft(reference)\n",
    "    \n",
    "    # Obtém as magnitudes (descarta fase)\n",
    "    mag_processed = np.abs(D_processed)\n",
    "    mag_reference = np.abs(D_reference)\n",
    "    \n",
    "    # Normaliza para evitar influência da amplitude\n",
    "    mag_processed /= np.max(mag_processed)\n",
    "    mag_reference /= np.max(mag_reference)\n",
    "\n",
    "    # Calcula a diferença espectral como fitness (quanto menor, melhor)\n",
    "    fitness = -np.sum((mag_reference - mag_processed) ** 2)  # PyGAD maximiza, então invertemos o sinal\n",
    "    \n",
    "    return fitness"
   ]
  },
  {
   "cell_type": "code",
   "execution_count": 33,
   "id": "0fc9417c-47a4-4fea-a911-3f724afd6345",
   "metadata": {},
   "outputs": [],
   "source": [
    "REFERENCE_FILE = f\"{AUDIOS_DIRECTORY}/revstagefb.wav\"\n",
    "\n",
    "GA_CONFIG = {\n",
    "    \"num_generations\": 50,          # Número de gerações\n",
    "    \"num_parents_mating\": 5,        # Número de soluções que serão selecionadas como pais\n",
    "    \"sol_per_pop\": 20,              # Número de soluções (indivíduos) na população\n",
    "    \"num_genes\": 4,                 # Número de genes (apenas semitones)\n",
    "    \"gene_space\": [\n",
    "        {\"low\": -12, \"high\": 12},   # semitones (pode variar de -12 a +12)\n",
    "        {\"low\": 0, \"high\": 100},    # reverberance (de 0 a 100)\n",
    "        {\"low\": 0, \"high\": 100},    # room_scale (de 0 a 100)\n",
    "        {\"low\": 0, \"high\": 100},    # pre_delay (de 0 a 100)\n",
    "    ],\n",
    "    \"mutation_type\": \"random\",      # Tipo de mutação (aleatória)\n",
    "    \"mutation_percent_genes\": 34,   # Porcentagem de genes que sofrerão mutação\n",
    "    \"parent_selection_type\": \"sss\", # Método de seleção de pais (steady-state selection)\n",
    "    \"crossover_type\": \"single_point\", # Tipo de crossover (ponto único)\n",
    "    \"keep_parents\": 1,              # Número de pais que serão mantidos na próxima geração\n",
    "}"
   ]
  },
  {
   "cell_type": "code",
   "execution_count": 34,
   "id": "1e470f63-bdf7-454a-8072-db5b54ef3d18",
   "metadata": {},
   "outputs": [],
   "source": [
    "ga_instance = pygad.GA(\n",
    "    fitness_func=lambda ga_instance, solution, solution_idx: fitness_function(\n",
    "        ga_instance, solution, solution_idx, INPUT_FILE, REFERENCE_FILE, OUTPUT_DIRECTORY\n",
    "    ),\n",
    "    **GA_CONFIG\n",
    ")"
   ]
  },
  {
   "cell_type": "code",
   "execution_count": 35,
   "id": "c58784e5-9f8d-4062-82bd-ffb83903ca22",
   "metadata": {},
   "outputs": [
    {
     "name": "stdout",
     "output_type": "stream",
     "text": [
      "Melhor solução: [-1.20520643 49.72916571 56.60214168  6.19880841], Fitness: 298.1694030761719\n"
     ]
    }
   ],
   "source": [
    "ga_instance.run()\n",
    "\n",
    "solution, solution_fitness, _ = ga_instance.best_solution()\n",
    "print(f\"Melhor solução: {solution}, Fitness: {-solution_fitness}\")"
   ]
  },
  {
   "cell_type": "code",
   "execution_count": 36,
   "id": "e40fdd94-96b8-402e-a75a-f44cf5902609",
   "metadata": {},
   "outputs": [
    {
     "data": {
      "image/png": "[encoded data removed]",
      "text/plain": [
       "<Figure size 640x480 with 1 Axes>"
      ]
     },
     "metadata": {},
     "output_type": "display_data"
    },
    {
     "data": {
      "text/plain": [
       "Text(0.5, 1.0, 'Fitness x Gerações - Efeito 14')"
      ]
     },
     "execution_count": 36,
     "metadata": {},
     "output_type": "execute_result"
    }
   ],
   "source": [
    "fig = ga_instance.plot_fitness()\n",
    "ax = fig.axes[0]\n",
    "ax.set_title(\"Fitness x Gerações - Efeito 14\", fontsize=12, fontweight='bold')"
   ]
  },
  {
   "cell_type": "code",
   "execution_count": 37,
   "id": "a3dbace1-083b-4af1-947a-5c6f546d18d7",
   "metadata": {},
   "outputs": [],
   "source": [
    "fig.savefig(f'{OUTPUT_DIRECTORY}/graphics/fitness-fmajor.png')"
   ]
  },
  {
   "cell_type": "code",
   "execution_count": 38,
   "id": "e7592451-e702-4778-973d-787ff399de8d",
   "metadata": {},
   "outputs": [],
   "source": [
    "input_file = f\"{AUDIOS_DIRECTORY}/original.wav\"\n",
    "output_file = f\"{OUTPUT_DIRECTORY}/results/fmajor.wav\"\n",
    "\n",
    "semitones, reverberance, room_scale, pre_delay = solution\n",
    "\n",
    "effects = Effects(input_file, output_file)\n",
    "effects.apply_fmajor(\n",
    "    semitones=semitones,\n",
    "    reverberance=reverberance,\n",
    "    room_scale=room_scale,\n",
    "    pre_delay=pre_delay\n",
    ")"
   ]
  },
  {
   "cell_type": "markdown",
   "id": "738976f6-8c5d-4ae3-9443-dcff7b86fa9b",
   "metadata": {},
   "source": [
    "### Effect 17 - Semitone Scale"
   ]
  },
  {
   "cell_type": "code",
   "execution_count": 39,
   "id": "b2e9a669-c4a2-468d-936b-c682d9f62fc8",
   "metadata": {},
   "outputs": [],
   "source": [
    "def fitness_function(ga_instance, solution, solution_idx, input_file, reference_file, output_directory):\n",
    "    \n",
    "    # Descompacta os parâmetros do dmajor\n",
    "    semitones, reverberance, room_scale, pre_delay = solution\n",
    "    \n",
    "    # Aplica o efeito bmajor com os parâmetros do AG\n",
    "    effects = Effects(input_file, output_file)\n",
    "    effects.apply_semitonescale(\n",
    "        semitones=semitones,\n",
    "        reverberance=reverberance,\n",
    "        room_scale=room_scale,\n",
    "        pre_delay=pre_delay\n",
    "    )\n",
    "    \n",
    "    # Carrega os áudios processado e de referência\n",
    "    processed, sr = librosa.load(output_file, sr=None)\n",
    "    reference, sr = librosa.load(reference_file, sr=None)\n",
    "    \n",
    "    # Certifica-se de que os sinais tenham o mesmo tamanho\n",
    "    min_len = min(len(processed), len(reference))\n",
    "    processed = processed[:min_len]\n",
    "    reference = reference[:min_len]\n",
    "    \n",
    "    # Converte para espectrogramas STFT\n",
    "    D_processed = librosa.stft(processed)\n",
    "    D_reference = librosa.stft(reference)\n",
    "    \n",
    "    # Obtém as magnitudes (descarta fase)\n",
    "    mag_processed = np.abs(D_processed)\n",
    "    mag_reference = np.abs(D_reference)\n",
    "    \n",
    "    # Normaliza para evitar influência da amplitude\n",
    "    mag_processed /= np.max(mag_processed)\n",
    "    mag_reference /= np.max(mag_reference)\n",
    "\n",
    "    # Calcula a diferença espectral como fitness (quanto menor, melhor)\n",
    "    fitness = -np.sum((mag_reference - mag_processed) ** 2)  # PyGAD maximiza, então invertemos o sinal\n",
    "    \n",
    "    return fitness"
   ]
  },
  {
   "cell_type": "code",
   "execution_count": 40,
   "id": "20b4f3e8-47ad-4797-a4c0-c98740b1f3ab",
   "metadata": {},
   "outputs": [],
   "source": [
    "REFERENCE_FILE = f\"{AUDIOS_DIRECTORY}/revstagegtht.wav\"\n",
    "\n",
    "GA_CONFIG = {\n",
    "    \"num_generations\": 50,          # Número de gerações\n",
    "    \"num_parents_mating\": 5,        # Número de soluções que serão selecionadas como pais\n",
    "    \"sol_per_pop\": 20,              # Número de soluções (indivíduos) na população\n",
    "    \"num_genes\": 4,                 # Número de genes (apenas semitones)\n",
    "    \"gene_space\": [\n",
    "        {\"low\": -12, \"high\": 12},   # semitones (pode variar de -12 a +12)\n",
    "        {\"low\": 0, \"high\": 100},    # reverberance (de 0 a 100)\n",
    "        {\"low\": 0, \"high\": 100},    # room_scale (de 0 a 100)\n",
    "        {\"low\": 0, \"high\": 100},    # pre_delay (de 0 a 100)\n",
    "    ],\n",
    "    \"mutation_type\": \"random\",      # Tipo de mutação (aleatória)\n",
    "    \"mutation_percent_genes\": 34,   # Porcentagem de genes que sofrerão mutação\n",
    "    \"parent_selection_type\": \"sss\", # Método de seleção de pais (steady-state selection)\n",
    "    \"crossover_type\": \"single_point\", # Tipo de crossover (ponto único)\n",
    "    \"keep_parents\": 1,              # Número de pais que serão mantidos na próxima geração\n",
    "}"
   ]
  },
  {
   "cell_type": "code",
   "execution_count": 41,
   "id": "141e7b19-ba05-483a-b502-eeb077fa4541",
   "metadata": {},
   "outputs": [],
   "source": [
    "ga_instance = pygad.GA(\n",
    "    fitness_func=lambda ga_instance, solution, solution_idx: fitness_function(\n",
    "        ga_instance, solution, solution_idx, INPUT_FILE, REFERENCE_FILE, OUTPUT_DIRECTORY\n",
    "    ),\n",
    "    **GA_CONFIG\n",
    ")"
   ]
  },
  {
   "cell_type": "code",
   "execution_count": 42,
   "id": "1446cd80-b60b-4cff-be43-34554a0b38dc",
   "metadata": {},
   "outputs": [
    {
     "name": "stdout",
     "output_type": "stream",
     "text": [
      "Melhor solução: [ 0.68265126 38.36920664 41.51898487 31.85403576], Fitness: 300.8078308105469\n"
     ]
    }
   ],
   "source": [
    "ga_instance.run()\n",
    "\n",
    "solution, solution_fitness, _ = ga_instance.best_solution()\n",
    "print(f\"Melhor solução: {solution}, Fitness: {-solution_fitness}\")"
   ]
  },
  {
   "cell_type": "code",
   "execution_count": 43,
   "id": "745a66f9-8cf5-4948-aac2-d6e4340c3fd8",
   "metadata": {},
   "outputs": [
    {
     "data": {
      "image/png": "[encoded data removed]",
      "text/plain": [
       "<Figure size 640x480 with 1 Axes>"
      ]
     },
     "metadata": {},
     "output_type": "display_data"
    },
    {
     "data": {
      "text/plain": [
       "Text(0.5, 1.0, 'Fitness x Gerações - Efeito 17')"
      ]
     },
     "execution_count": 43,
     "metadata": {},
     "output_type": "execute_result"
    }
   ],
   "source": [
    "fig = ga_instance.plot_fitness()\n",
    "ax = fig.axes[0]\n",
    "ax.set_title(\"Fitness x Gerações - Efeito 17\", fontsize=12, fontweight='bold')"
   ]
  },
  {
   "cell_type": "code",
   "execution_count": 44,
   "id": "48c427b4-19bc-4afe-adad-994bbd8377ce",
   "metadata": {},
   "outputs": [],
   "source": [
    "fig.savefig(f'{OUTPUT_DIRECTORY}/graphics/fitness-semitonescale.png')"
   ]
  },
  {
   "cell_type": "code",
   "execution_count": 45,
   "id": "929fa129-9402-423a-a3b4-25b05be382b1",
   "metadata": {},
   "outputs": [],
   "source": [
    "input_file = f\"{AUDIOS_DIRECTORY}/original.wav\"\n",
    "output_file = f\"{OUTPUT_DIRECTORY}/results/semitonescale.wav\"\n",
    "\n",
    "semitones = solution[0]\n",
    "\n",
    "effects = Effects(input_file, output_file)\n",
    "effects.apply_semitonescale(semitones=semitones)"
   ]
  },
  {
   "cell_type": "markdown",
   "id": "c4ca9985-bf7c-492a-85bc-25c8710eeacc",
   "metadata": {},
   "source": [
    "### Effect 20 - Child Voice"
   ]
  },
  {
   "cell_type": "code",
   "execution_count": 46,
   "id": "bc4697f0-08e9-4e48-b8cd-8c75583d7825",
   "metadata": {},
   "outputs": [],
   "source": [
    "def fitness_function(ga_instance, solution, solution_idx, input_file, reference_file, output_directory):\n",
    "    \n",
    "    AUDIOS_DIRECTORY = \"audios\"\n",
    "    OUTPUT_DIRECTORY = \"output\"\n",
    "\n",
    "    # Arquivos de entrada e saída\n",
    "    input_file = f\"{AUDIOS_DIRECTORY}/original.wav\"\n",
    "    output_file = f\"{OUTPUT_DIRECTORY}/optimization/temp/temp_{solution_idx}.wav\"\n",
    "    \n",
    "    # Descompacta os parâmetros do efeito de voz de criança\n",
    "    pitch_shift, reverberance, room_scale, pre_delay = solution\n",
    "\n",
    "    # Aplica o efeito de voz de criança com os parâmetros do AG\n",
    "    effects = Effects(input_file, output_file)\n",
    "    effects.apply_childvoice(pitch_shift=pitch_shift, reverberance=reverberance, room_scale=room_scale, pre_delay=pre_delay)\n",
    "    \n",
    "    # Carrega os áudios processado e de referência\n",
    "    processed, sr = librosa.load(output_file, sr=None)\n",
    "    reference, sr = librosa.load(reference_file, sr=None)\n",
    "    \n",
    "    # Certifica-se de que os sinais tenham o mesmo tamanho\n",
    "    min_len = min(len(processed), len(reference))\n",
    "    processed = processed[:min_len]\n",
    "    reference = reference[:min_len]\n",
    "    \n",
    "    # Converte para espectrogramas STFT\n",
    "    D_processed = librosa.stft(processed)\n",
    "    D_reference = librosa.stft(reference)\n",
    "    \n",
    "    # Obtém as magnitudes (descarta fase)\n",
    "    mag_processed = np.abs(D_processed)\n",
    "    mag_reference = np.abs(D_reference)\n",
    "    \n",
    "    # Normaliza para evitar influência da amplitude\n",
    "    mag_processed /= np.max(mag_processed)\n",
    "    mag_reference /= np.max(mag_reference)\n",
    "\n",
    "    # Calcula a diferença espectral como fitness (quanto menor, melhor)\n",
    "    fitness = -np.sum((mag_reference - mag_processed) ** 2)  # PyGAD maximiza, então invertemos o sinal\n",
    "    \n",
    "    return fitness"
   ]
  },
  {
   "cell_type": "code",
   "execution_count": 47,
   "id": "3e3e41a3-ec58-4ddb-86eb-d29ab9ff835a",
   "metadata": {},
   "outputs": [],
   "source": [
    "REFERENCE_FILE = f\"{AUDIOS_DIRECTORY}/phaser.wav\"\n",
    "\n",
    "GA_CONFIG = {\n",
    "    \"num_generations\": 50,          # Número de gerações\n",
    "    \"num_parents_mating\": 5,        # Número de soluções que serão selecionadas como pais\n",
    "    \"sol_per_pop\": 20,              # Número de soluções (indivíduos) na população\n",
    "    \"num_genes\": 4,                 # Número de genes (parâmetros a serem otimizados)\n",
    "    \"gene_space\": [\n",
    "        {\"low\": -12, \"high\": 12},   # pitch_shift (semitons, pode variar de -12 a +12)\n",
    "        {\"low\": 0, \"high\": 100},    # reverberance (de 0 a 100)\n",
    "        {\"low\": 0, \"high\": 100},    # room_scale (de 0 a 100)\n",
    "        {\"low\": 0, \"high\": 100},    # pre_delay (de 0 a 100)\n",
    "    ],\n",
    "    \"mutation_type\": \"random\",      # Tipo de mutação (aleatória)\n",
    "    \"mutation_percent_genes\": 10,   # Porcentagem de genes que sofrerão mutação\n",
    "    \"parent_selection_type\": \"sss\", # Método de seleção de pais (steady-state selection)\n",
    "    \"crossover_type\": \"single_point\", # Tipo de crossover (ponto único)\n",
    "    \"keep_parents\": 1,              # Número de pais que serão mantidos na próxima geração\n",
    "}"
   ]
  },
  {
   "cell_type": "code",
   "execution_count": 48,
   "id": "af6e7cf9-b6c0-4722-8565-2f9aebd1ede0",
   "metadata": {},
   "outputs": [],
   "source": [
    "ga_instance = pygad.GA(\n",
    "    fitness_func=lambda ga_instance, solution, solution_idx: fitness_function(\n",
    "        ga_instance, solution, solution_idx, INPUT_FILE, REFERENCE_FILE, OUTPUT_DIRECTORY\n",
    "    ),\n",
    "    **GA_CONFIG\n",
    ")"
   ]
  },
  {
   "cell_type": "code",
   "execution_count": 49,
   "id": "6457c661-1ea3-44c4-bc98-4018c84ba693",
   "metadata": {},
   "outputs": [
    {
     "name": "stdout",
     "output_type": "stream",
     "text": [
      "Melhor solução: [ 6.54406775 76.41307861 87.44620847  2.86027176], Fitness: 304.9408874511719\n"
     ]
    }
   ],
   "source": [
    "ga_instance.run()\n",
    "\n",
    "solution, solution_fitness, _ = ga_instance.best_solution()\n",
    "print(f\"Melhor solução: {solution}, Fitness: {-solution_fitness}\")"
   ]
  },
  {
   "cell_type": "code",
   "execution_count": 50,
   "id": "4fadbfcd-9c2e-44d3-b532-de9279b7fcdc",
   "metadata": {},
   "outputs": [
    {
     "data": {
      "image/png": "[encoded data removed]",
      "text/plain": [
       "<Figure size 640x480 with 1 Axes>"
      ]
     },
     "metadata": {},
     "output_type": "display_data"
    },
    {
     "data": {
      "text/plain": [
       "Text(0.5, 1.0, 'Fitness x Gerações - Efeito 20')"
      ]
     },
     "execution_count": 50,
     "metadata": {},
     "output_type": "execute_result"
    }
   ],
   "source": [
    "fig = ga_instance.plot_fitness()\n",
    "ax = fig.axes[0]\n",
    "ax.set_title(\"Fitness x Gerações - Efeito 20\", fontsize=12, fontweight='bold')"
   ]
  },
  {
   "cell_type": "code",
   "execution_count": 51,
   "id": "aed6cea4-3c58-4942-9ff0-28f3ac099376",
   "metadata": {},
   "outputs": [],
   "source": [
    "fig.savefig(f'{OUTPUT_DIRECTORY}/graphics/fitness-childvoice.png')"
   ]
  },
  {
   "cell_type": "code",
   "execution_count": 52,
   "id": "d8d760bf-f8d0-4876-8940-7413699d793b",
   "metadata": {},
   "outputs": [],
   "source": [
    "input_file = f\"{AUDIOS_DIRECTORY}/original.wav\"\n",
    "output_file = f\"{OUTPUT_DIRECTORY}/results/childvoice.wav\"\n",
    "\n",
    "pitch_shift, reverberance, room_scale, pre_delay = solution\n",
    "\n",
    "effects = Effects(input_file, output_file)\n",
    "effects.apply_childvoice(\n",
    "    pitch_shift=pitch_shift, \n",
    "    reverberance=reverberance, \n",
    "    room_scale=room_scale, \n",
    "    pre_delay=pre_delay\n",
    ")"
   ]
  },
  {
   "cell_type": "markdown",
   "id": "4f03275b-d394-4d72-89e0-f450e939d1df",
   "metadata": {},
   "source": [
    "### Effect 23 - Magic Echo Male"
   ]
  },
  {
   "cell_type": "code",
   "execution_count": 53,
   "id": "f3e019ec-4e9e-460b-b58a-9a146deb860f",
   "metadata": {},
   "outputs": [],
   "source": [
    "def fitness_function(ga_instance, solution, solution_idx, input_file, reference_file, output_directory):\n",
    "    \n",
    "    AUDIOS_DIRECTORY = \"audios\"\n",
    "    OUTPUT_DIRECTORY = \"output\"\n",
    "\n",
    "    # Arquivos de entrada e saída\n",
    "    input_file = f\"{AUDIOS_DIRECTORY}/original.wav\"\n",
    "    output_file = f\"{OUTPUT_DIRECTORY}/optimization/temp/temp_{solution_idx}.wav\"\n",
    "    \n",
    "    # Descompacta os parâmetros do efeito de eco mágico masculino\n",
    "    reverberance, room_scale, pre_delay, pitch_shift, chorus = solution\n",
    "\n",
    "    # Aplica o efeito de eco mágico masculino com os parâmetros do AG\n",
    "    effects = Effects(input_file, output_file)\n",
    "    effects.apply_magicechomale(\n",
    "        reverberance=reverberance,\n",
    "        room_scale=room_scale,\n",
    "        pre_delay=pre_delay,\n",
    "        pitch_shift=pitch_shift,\n",
    "        chorus=bool(chorus)\n",
    "    )\n",
    "    \n",
    "    # Carrega os áudios processado e de referência\n",
    "    processed, sr = librosa.load(output_file, sr=None)\n",
    "    reference, sr = librosa.load(reference_file, sr=None)\n",
    "    \n",
    "    # Certifica-se de que os sinais tenham o mesmo tamanho\n",
    "    min_len = min(len(processed), len(reference))\n",
    "    processed = processed[:min_len]\n",
    "    reference = reference[:min_len]\n",
    "    \n",
    "    # Converte para espectrogramas STFT\n",
    "    D_processed = librosa.stft(processed)\n",
    "    D_reference = librosa.stft(reference)\n",
    "    \n",
    "    # Obtém as magnitudes (descarta fase)\n",
    "    mag_processed = np.abs(D_processed)\n",
    "    mag_reference = np.abs(D_reference)\n",
    "    \n",
    "    # Normaliza para evitar influência da amplitude\n",
    "    mag_processed /= np.max(mag_processed)\n",
    "    mag_reference /= np.max(mag_reference)\n",
    "\n",
    "    # Calcula a diferença espectral como fitness (quanto menor, melhor)\n",
    "    fitness = -np.sum((mag_reference - mag_processed) ** 2)  # PyGAD maximiza, então invertemos o sinal\n",
    "    \n",
    "    return fitness"
   ]
  },
  {
   "cell_type": "code",
   "execution_count": 54,
   "id": "a74d2c82-4015-49a3-95bb-317604aa1aa5",
   "metadata": {},
   "outputs": [],
   "source": [
    "REFERENCE_FILE = f\"{AUDIOS_DIRECTORY}/autowah.wav\"\n",
    "\n",
    "GA_CONFIG = {\n",
    "    \"num_generations\": 50,          # Número de gerações\n",
    "    \"num_parents_mating\": 5,        # Número de soluções que serão selecionadas como pais\n",
    "    \"sol_per_pop\": 20,              # Número de soluções (indivíduos) na população\n",
    "    \"num_genes\": 5,                 # Número de genes (parâmetros a serem otimizados)\n",
    "    \"gene_space\": [\n",
    "        {\"low\": 0, \"high\": 100},    # reverberance (de 0 a 100)\n",
    "        {\"low\": 0, \"high\": 100},    # room_scale (de 0 a 100)\n",
    "        {\"low\": 0, \"high\": 100},    # pre_delay (de 0 a 100)\n",
    "        {\"low\": -6, \"high\": 6},   # pitch_shift (semitons, pode variar de -6 a +6)\n",
    "        {\"low\": 0, \"high\": 1},      # chorus (0 = desligado, 1 = ligado)\n",
    "    ],\n",
    "    \"mutation_type\": \"random\",      # Tipo de mutação (aleatória)\n",
    "    \"mutation_percent_genes\": 10,   # Porcentagem de genes que sofrerão mutação\n",
    "    \"parent_selection_type\": \"sss\", # Método de seleção de pais (steady-state selection)\n",
    "    \"crossover_type\": \"single_point\", # Tipo de crossover (ponto único)\n",
    "    \"keep_parents\": 1,              # Número de pais que serão mantidos na próxima geração\n",
    "}"
   ]
  },
  {
   "cell_type": "code",
   "execution_count": 55,
   "id": "9bc626b7-4c99-4748-9e0d-f4bd2b88a724",
   "metadata": {},
   "outputs": [],
   "source": [
    "ga_instance = pygad.GA(\n",
    "    fitness_func=lambda ga_instance, solution, solution_idx: fitness_function(\n",
    "        ga_instance, solution, solution_idx, INPUT_FILE, REFERENCE_FILE, OUTPUT_DIRECTORY\n",
    "    ),\n",
    "    **GA_CONFIG\n",
    ")"
   ]
  },
  {
   "cell_type": "code",
   "execution_count": 56,
   "id": "1f525056-428a-4a4e-bb15-85954171c7f1",
   "metadata": {},
   "outputs": [
    {
     "name": "stdout",
     "output_type": "stream",
     "text": [
      "Melhor solução: [20.10344428 57.56586432  6.11855617  1.7067244   0.74797803], Fitness: 295.6398010253906\n"
     ]
    }
   ],
   "source": [
    "ga_instance.run()\n",
    "\n",
    "solution, solution_fitness, _ = ga_instance.best_solution()\n",
    "print(f\"Melhor solução: {solution}, Fitness: {-solution_fitness}\")"
   ]
  },
  {
   "cell_type": "code",
   "execution_count": 57,
   "id": "11cb9d37-b9e4-45f2-a589-170abe5b9c4c",
   "metadata": {},
   "outputs": [
    {
     "data": {
      "image/png": "[encoded data removed]",
      "text/plain": [
       "<Figure size 640x480 with 1 Axes>"
      ]
     },
     "metadata": {},
     "output_type": "display_data"
    },
    {
     "data": {
      "text/plain": [
       "Text(0.5, 1.0, 'Fitness x Gerações - Efeito 23')"
      ]
     },
     "execution_count": 57,
     "metadata": {},
     "output_type": "execute_result"
    }
   ],
   "source": [
    "fig = ga_instance.plot_fitness()\n",
    "ax = fig.axes[0]\n",
    "ax.set_title(\"Fitness x Gerações - Efeito 23\", fontsize=12, fontweight='bold')"
   ]
  },
  {
   "cell_type": "code",
   "execution_count": 58,
   "id": "b61cffe1-6133-443f-a7e7-d0075ff6736e",
   "metadata": {},
   "outputs": [],
   "source": [
    "fig.savefig(f'{OUTPUT_DIRECTORY}/graphics/fitness-magicechomale.png')"
   ]
  },
  {
   "cell_type": "code",
   "execution_count": 59,
   "id": "dd8f8987-baf1-42eb-a763-4e24e6e64c93",
   "metadata": {},
   "outputs": [],
   "source": [
    "input_file = f\"{AUDIOS_DIRECTORY}/original.wav\"\n",
    "output_file = f\"{OUTPUT_DIRECTORY}/results/magicechomale.wav\"\n",
    "\n",
    "reverberance, room_scale, pre_delay, pitch_shift, chorus = solution\n",
    "\n",
    "effects = Effects(input_file, output_file)\n",
    "effects.apply_magicechomale(\n",
    "    reverberance=reverberance,\n",
    "    room_scale=room_scale,\n",
    "    pre_delay=pre_delay,\n",
    "    pitch_shift=pitch_shift,\n",
    "    chorus=bool(chorus)\n",
    ")"
   ]
  }
 ],
 "metadata": {
  "kernelspec": {
   "display_name": "Python (Effects Parameters)",
   "language": "python",
   "name": "effects-parameters"
  },
  "language_info": {
   "codemirror_mode": {
    "name": "ipython",
    "version": 3
   },
   "file_extension": ".py",
   "mimetype": "text/x-python",
   "name": "python",
   "nbconvert_exporter": "python",
   "pygments_lexer": "ipython3",
   "version": "3.11.11"
  }
 },
 "nbformat": 4,
 "nbformat_minor": 5
}
