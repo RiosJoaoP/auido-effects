{
 "cells": [
  {
   "cell_type": "markdown",
   "id": "eb523a73-a6e5-49f6-8565-8e71534cbc50",
   "metadata": {},
   "source": [
    "# Implementação dos Efeitos da Mesa"
   ]
  },
  {
   "cell_type": "markdown",
   "id": "22e387b8-9c9a-47d2-bf3c-9e53c385860a",
   "metadata": {},
   "source": [
    "## Importações"
   ]
  },
  {
   "cell_type": "code",
   "execution_count": 1,
   "id": "f08a370f-a300-4921-a5e2-9b667602b0ea",
   "metadata": {},
   "outputs": [],
   "source": [
    "import os\n",
    "import sox"
   ]
  },
  {
   "cell_type": "markdown",
   "id": "3debc787-2b75-4665-8c38-79392e2765af",
   "metadata": {},
   "source": [
    "## Definições dos Efeitos"
   ]
  },
  {
   "cell_type": "code",
   "execution_count": 2,
   "id": "f4b77200-48a7-4892-bd7e-ae58d8394306",
   "metadata": {},
   "outputs": [],
   "source": [
    "class Effects:\n",
    "    def __init__(self, input_file, output_file):\n",
    "        \"\"\"\n",
    "        Inicializa a classe Effects.\n",
    "        :param input_file: Arquivo de áudio de entrada.\n",
    "        :param output_file: Arquivo de áudio de saída.\n",
    "        \"\"\"\n",
    "        self.input_file = input_file\n",
    "        self.output_file = output_file\n",
    "        self.tfm = sox.Transformer()\n",
    "\n",
    "    def _apply_effects(self):\n",
    "        \"\"\"Aplica os efeitos e gera o arquivo de saída.\"\"\"\n",
    "        if os.path.exists(self.output_file):\n",
    "            os.remove(self.output_file)\n",
    "        self.tfm.build(self.input_file, self.output_file)\n",
    "\n",
    "    def _apply_reverb(self, reverberance=50, room_scale=50, pre_delay=20):\n",
    "        \"\"\"Aplica reverberação.\"\"\"\n",
    "        self.tfm.reverb(reverberance, room_scale=room_scale, pre_delay=pre_delay)\n",
    "\n",
    "    def _apply_pitch(self, semitones=0):\n",
    "        \"\"\"Aplica alteração de pitch.\"\"\"\n",
    "        self.tfm.pitch(semitones)\n",
    "\n",
    "    def _apply_flanger(self, delay=3, depth=1.5, regen=0, width=50, speed=0.4):\n",
    "        \"\"\"Aplica efeito de flanger.\"\"\"\n",
    "        self.tfm.flanger(delay, depth, regen, width, speed)\n",
    "\n",
    "    def _apply_tremolo(self, speed=5, depth=40):\n",
    "        \"\"\"Aplica efeito de tremolo.\"\"\"\n",
    "        self.tfm.tremolo(speed, depth)\n",
    "\n",
    "    def _apply_equalizer(self, frequency=2000, width_q=2, gain_db=6):\n",
    "        \"\"\"Aplica equalização.\"\"\"\n",
    "        self.tfm.equalizer(frequency, width_q, gain_db)\n",
    "\n",
    "    def _apply_chorus(self, gain_in=0.5, gain_out=0.9, n_voices=3, delays=[20], decays=[0.5], speeds=[0.5], depths=[2]):\n",
    "        \"\"\"Aplica efeito de chorus.\"\"\"\n",
    "        self.tfm.chorus(gain_in, gain_out, n_voices, delays, decays, speeds, depths)\n",
    "\n",
    "    def apply_effects(self, effects_params):\n",
    "        \"\"\"\n",
    "        Aplica uma combinação de efeitos conforme os parâmetros passados.\n",
    "        :param effects_params: Dicionário contendo os efeitos e seus parâmetros.\n",
    "        \"\"\"\n",
    "        for effect, params in effects_params.items():\n",
    "            if hasattr(self, f\"_apply_{effect}\"):\n",
    "                getattr(self, f\"_apply_{effect}\")(**params)\n",
    "        self._apply_effects()\n",
    "\n",
    "    # Efeitos predefinidos\n",
    "    def apply_revhall(self, reverberance=50, room_scale=50, pre_delay=20):\n",
    "        \"\"\"Efeito: Reverberação de auditório.\"\"\"\n",
    "        self.apply_effects({\"reverb\": {\"reverberance\": reverberance, \"room_scale\": room_scale, \"pre_delay\": pre_delay}})\n",
    "\n",
    "    def apply_fallingamajor(self, semitones=0):\n",
    "        \"\"\"Efeito: Mistura eletrônica (fallingamajor).\"\"\"\n",
    "        self.apply_effects({\n",
    "            \"pitch\": {\"semitones\": semitones},\n",
    "            \"flanger\": {\"delay\": 3, \"depth\": 1.5, \"regen\": 0, \"width\": 50, \"speed\": 0.4},\n",
    "            \"tremolo\": {\"speed\": 5, \"depth\": 40}\n",
    "        })\n",
    "\n",
    "    def apply_bmajor(self, semitones=0):\n",
    "        \"\"\"Efeito: Som eletrônico (bmajor).\"\"\"\n",
    "        self.apply_effects({\"pitch\": {\"semitones\": semitones}})\n",
    "\n",
    "    def apply_dmajor(self, semitones=0):\n",
    "        \"\"\"Efeito: Som eletrônico (dmajor).\"\"\"\n",
    "        self.apply_effects({\"pitch\": {\"semitones\": semitones}})\n",
    "\n",
    "    def apply_fmajor(self, semitones=0):\n",
    "        \"\"\"Efeito: Som eletrônico (fmajor).\"\"\"\n",
    "        self.apply_effects({\"pitch\": {\"semitones\": semitones}})\n",
    "\n",
    "    def apply_semitonescale(self, semitones=1):\n",
    "        \"\"\"Efeito: Escala de semitons eletrônica.\"\"\"\n",
    "        self.apply_effects({\"pitch\": {\"semitones\": semitones}})\n",
    "\n",
    "    def apply_childvoice(self, pitch_shift=6, reverberance=30, room_scale=30, pre_delay=10):\n",
    "        \"\"\"Efeito: Voz de criança.\"\"\"\n",
    "        self.apply_effects({\n",
    "            \"pitch\": {\"semitones\": pitch_shift},\n",
    "            \"reverb\": {\"reverberance\": reverberance, \"room_scale\": room_scale, \"pre_delay\": pre_delay},\n",
    "            \"equalizer\": {\"frequency\": 2000, \"width_q\": 2, \"gain_db\": 6}\n",
    "        })\n",
    "\n",
    "    def apply_magicechomale(self, reverberance=90, room_scale=80, pre_delay=50, pitch_shift=-4, chorus=False):\n",
    "        \"\"\"Efeito: Eco mágico masculino.\"\"\"\n",
    "        effects = {\n",
    "            \"reverb\": {\"reverberance\": reverberance, \"room_scale\": room_scale, \"pre_delay\": pre_delay},\n",
    "            \"pitch\": {\"semitones\": pitch_shift}\n",
    "        }\n",
    "        if chorus:\n",
    "            effects[\"chorus\"] = {\"gain_in\": 0.5, \"gain_out\": 0.9, \"n_voices\": 3, \"delays\": [20], \"decays\": [0.5], \"speeds\": [0.5], \"depths\": [2]}\n",
    "        \n",
    "        self.apply_effects(effects)"
   ]
  },
  {
   "cell_type": "markdown",
   "id": "81587daf-ec6d-4c13-9d28-307aa6c5754e",
   "metadata": {},
   "source": [
    "## Aplicação dos Efeitos"
   ]
  },
  {
   "cell_type": "code",
   "execution_count": 3,
   "id": "24228cc8-e133-4280-823b-15d47cbb4654",
   "metadata": {},
   "outputs": [],
   "source": [
    "AUDIOS_DIRECTORY = \"audios\"\n",
    "OUTPUT_DIRECTORY = \"output/effects_implementation\""
   ]
  },
  {
   "cell_type": "code",
   "execution_count": 4,
   "id": "354faa4c-dea1-4a08-98cc-c517ad2b14f0",
   "metadata": {},
   "outputs": [],
   "source": [
    "EFFECTS_LIST = [\n",
    "    (\"revhall\", lambda e: e.apply_revhall(reverberance=60, room_scale=70, pre_delay=30)),\n",
    "    (\"fallingamajor\", lambda e: e.apply_fallingamajor(semitones=5)),\n",
    "    (\"bmajor\", lambda e: e.apply_bmajor(semitones=0)),\n",
    "    (\"dmajor\", lambda e: e.apply_dmajor(semitones=0)),\n",
    "    (\"fmajor\", lambda e: e.apply_fmajor(semitones=0)),\n",
    "    (\"semitonescale\", lambda e: e.apply_semitonescale(semitones=2)),\n",
    "    (\"childvoice\", lambda e: e.apply_childvoice(pitch_shift=5)),\n",
    "    (\"magicechomale\", lambda e: e.apply_magicechomale(reverberance=80, pitch_shift=-3)),\n",
    "]\n"
   ]
  },
  {
   "cell_type": "code",
   "execution_count": 5,
   "id": "e47d7358-cb17-4350-8e6a-f40085d898ef",
   "metadata": {},
   "outputs": [
    {
     "name": "stdout",
     "output_type": "stream",
     "text": [
      "Efeito 'revhall' aplicado e salvo em output/effects_implementation/revhall.wav.\n",
      "Efeito 'fallingamajor' aplicado e salvo em output/effects_implementation/fallingamajor.wav.\n",
      "Efeito 'bmajor' aplicado e salvo em output/effects_implementation/bmajor.wav.\n",
      "Efeito 'dmajor' aplicado e salvo em output/effects_implementation/dmajor.wav.\n",
      "Efeito 'fmajor' aplicado e salvo em output/effects_implementation/fmajor.wav.\n",
      "Efeito 'semitonescale' aplicado e salvo em output/effects_implementation/semitonescale.wav.\n",
      "Efeito 'childvoice' aplicado e salvo em output/effects_implementation/childvoice.wav.\n",
      "Efeito 'magicechomale' aplicado e salvo em output/effects_implementation/magicechomale.wav.\n"
     ]
    }
   ],
   "source": [
    "for effect_name, effect_function in EFFECTS_LIST:\n",
    "    input_file = os.path.join(AUDIOS_DIRECTORY, \"original.wav\")\n",
    "    output_file = os.path.join(OUTPUT_DIRECTORY, f\"{effect_name}.wav\")\n",
    "    \n",
    "    if not os.path.exists(input_file):\n",
    "        print(f\"Arquivo de entrada {input_file} não encontrado!\")\n",
    "        continue\n",
    "\n",
    "    effects = Effects(input_file, output_file)\n",
    "    effect_function(effects)\n",
    "    print(f\"Efeito '{effect_name}' aplicado e salvo em {output_file}.\")"
   ]
  },
  {
   "cell_type": "code",
   "execution_count": null,
   "id": "b391e040-8058-41fe-994b-a1cc10d14f9f",
   "metadata": {},
   "outputs": [],
   "source": []
  }
 ],
 "metadata": {
  "kernelspec": {
   "display_name": "Python (Effects Parameters)",
   "language": "python",
   "name": "effects-parameters"
  },
  "language_info": {
   "codemirror_mode": {
    "name": "ipython",
    "version": 3
   },
   "file_extension": ".py",
   "mimetype": "text/x-python",
   "name": "python",
   "nbconvert_exporter": "python",
   "pygments_lexer": "ipython3",
   "version": "3.11.11"
  }
 },
 "nbformat": 4,
 "nbformat_minor": 5
}
